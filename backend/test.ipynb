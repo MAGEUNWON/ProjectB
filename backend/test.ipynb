{
 "cells": [
  {
   "cell_type": "code",
   "execution_count": 2,
   "id": "d340aab1",
   "metadata": {},
   "outputs": [
    {
     "name": "stdout",
     "output_type": "stream",
     "text": [
      "           NODE_ID NODE_TYPE       NODE_NAME TURN_P REMARK  \\\n",
      "0       3850410400       101     ³»´öµ¿30-10      0   None   \n",
      "1       3850410500       101      ³»´öµ¿7-12      0   None   \n",
      "2       3850410600       101      ³»´öµ¿69-9      0   None   \n",
      "3       3850410700       101      ³»´öµ¿15-4      0   None   \n",
      "4       3850410800       101     ³»´öµ¿69-31      0   None   \n",
      "...            ...       ...             ...    ...    ...   \n",
      "201490  3250324800       103    ¼±¼Ò´ë±³µ¿Ãø      0   None   \n",
      "201491  3520493000       101        ¼ºÈ£¸ñÀå      0   None   \n",
      "201492  3520493100       104     »ç¹æ3±³³²Ãø      0   None   \n",
      "201493  3520493200       101    ¼±¸®Ä¡GCÀÔ±¸      0   None   \n",
      "201494  2330528701       104  µ¿ÅºÅÍ³Î(¼­Ãø)      0   None   \n",
      "\n",
      "                             geometry  \n",
      "0       POINT (366399.626 291759.408)  \n",
      "1       POINT (366024.471 292164.486)  \n",
      "2       POINT (366327.317 291863.994)  \n",
      "3       POINT (366237.946 291956.088)  \n",
      "4       POINT (366147.410 292052.048)  \n",
      "...                               ...  \n",
      "201490  POINT (260818.509 239428.871)  \n",
      "201491  POINT (399851.461 373123.141)  \n",
      "201492  POINT (399830.102 373188.671)  \n",
      "201493  POINT (399402.006 374329.353)  \n",
      "201494  POINT (210959.316 510522.739)  \n",
      "\n",
      "[201495 rows x 6 columns]\n"
     ]
    }
   ],
   "source": [
    "import geopandas as gpd\n",
    "import matplotlib.pyplot as plt\n",
    "\n",
    "\n",
    "\n",
    "# shp_path_link = 'C:/Users/Administrator/Desktop/NODELINKDATA//MOCT_LINK.shp'\n",
    "# sf_link = shapefile.Reader(shp_path_link)\n",
    "\n",
    "# print(sf_node.fields)\n",
    "# print(sf_link)\n",
    "\n",
    "plt.rcParams['figure.figsize'] = (10,10)\n",
    "\n",
    "shp_path_node = 'C:/Users/Administrator/Desktop/NODELINKDATA/MOCT_NODE.shp'\n",
    "node = gpd.read_file(shp_path_node)\n",
    "print(node)\n",
    "\n",
    "ax = node.convex_hul.plot(color='')"
   ]
  },
  {
   "cell_type": "code",
   "execution_count": null,
   "id": "8935639e",
   "metadata": {},
   "outputs": [],
   "source": []
  }
 ],
 "metadata": {
  "kernelspec": {
   "display_name": "Python 3.10.6 ('Project_A')",
   "language": "python",
   "name": "python3"
  },
  "language_info": {
   "codemirror_mode": {
    "name": "ipython",
    "version": 3
   },
   "file_extension": ".py",
   "mimetype": "text/x-python",
   "name": "python",
   "nbconvert_exporter": "python",
   "pygments_lexer": "ipython3",
   "version": "3.10.6"
  },
  "vscode": {
   "interpreter": {
    "hash": "bc01cacf680723b03305151d7cbaa6668a0090f63b79baac23b9b594dc712b58"
   }
  }
 },
 "nbformat": 4,
 "nbformat_minor": 5
}
